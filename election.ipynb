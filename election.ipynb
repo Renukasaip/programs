{
 "cells": [
  {
   "cell_type": "code",
   "execution_count": 10,
   "id": "9bb8bf69-d714-4fce-862a-100eab7a56c5",
   "metadata": {},
   "outputs": [
    {
     "name": "stdin",
     "output_type": "stream",
     "text": [
      " 5\n",
      " 2\n",
      " 1 2 3 4 5\n"
     ]
    },
    {
     "name": "stdout",
     "output_type": "stream",
     "text": [
      "14\n"
     ]
    }
   ],
   "source": [
    "###advanced sub-array\n",
    "def max_score(n,k,a):\n",
    "    mx=-1\n",
    "    for i in range(0,n-k+1):\n",
    "        s=0\n",
    "        t=a[i:i+k]\n",
    "        m=1\n",
    "        for j in t:\n",
    "            s+=(j*m)\n",
    "            m+=1\n",
    "        if s>mx:\n",
    "            mx=s\n",
    "    return mx\n",
    "\n",
    "n=int(input())\n",
    "k=int(input())\n",
    "a=list(map(int,input().split()))\n",
    "n=len(a)\n",
    "print(max_score(n,k,a))"
   ]
  },
  {
   "cell_type": "code",
   "execution_count": 5,
   "id": "40e2fde4-42ec-4205-971e-71ee3fcedffc",
   "metadata": {},
   "outputs": [
    {
     "name": "stdin",
     "output_type": "stream",
     "text": [
      " hello ballari from karnataka\n"
     ]
    },
    {
     "name": "stdout",
     "output_type": "stream",
     "text": [
      "3\n"
     ]
    }
   ],
   "source": [
    "###space counter\n",
    "def count_space(s):\n",
    "    return s.count(' ')\n",
    "\n",
    "s=input()\n",
    "print( count_space(s))"
   ]
  },
  {
   "cell_type": "code",
   "execution_count": null,
   "id": "fd34be3b-01d6-4178-9832-f7b2b09013b2",
   "metadata": {},
   "outputs": [],
   "source": []
  }
 ],
 "metadata": {
  "kernelspec": {
   "display_name": "Python 3 (ipykernel)",
   "language": "python",
   "name": "python3"
  },
  "language_info": {
   "codemirror_mode": {
    "name": "ipython",
    "version": 3
   },
   "file_extension": ".py",
   "mimetype": "text/x-python",
   "name": "python",
   "nbconvert_exporter": "python",
   "pygments_lexer": "ipython3",
   "version": "3.12.0"
  }
 },
 "nbformat": 4,
 "nbformat_minor": 5
}
